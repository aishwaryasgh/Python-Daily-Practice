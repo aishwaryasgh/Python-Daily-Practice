{
 "cells": [
  {
   "cell_type": "markdown",
   "id": "dbccf2d4-8a94-43bd-866a-521e9c60fd2b",
   "metadata": {},
   "source": [
    "1.Date\n",
    "2.Time\n",
    "3.DateTime\n",
    "4.TimeDelta\n",
    "5.Tzinfo\n",
    "6.Timezone"
   ]
  },
  {
   "cell_type": "code",
   "execution_count": 4,
   "id": "da209433-7b1c-40b7-b023-0d6066ea3a80",
   "metadata": {},
   "outputs": [
    {
     "name": "stdout",
     "output_type": "stream",
     "text": [
      "Example of passing date as an argument 2021-12-24\n"
     ]
    }
   ],
   "source": [
    "from datetime import date\n",
    "date_argument = date(2021,12,24)\n",
    "print('Example of passing date as an argument',date_argument)"
   ]
  },
  {
   "cell_type": "code",
   "execution_count": 6,
   "id": "697867f0-8304-4c52-b9ca-a3106bac1186",
   "metadata": {},
   "outputs": [
    {
     "name": "stdout",
     "output_type": "stream",
     "text": [
      "Today's date is  2025-05-03\n"
     ]
    }
   ],
   "source": [
    "from datetime import date\n",
    "today_date= date.today()\n",
    "print(\"Today's date is \",today_date)"
   ]
  },
  {
   "cell_type": "code",
   "execution_count": 10,
   "id": "a399bb22-20e3-44a0-bc32-2fc051febf78",
   "metadata": {},
   "outputs": [],
   "source": [
    "from datetime import date"
   ]
  },
  {
   "cell_type": "code",
   "execution_count": 12,
   "id": "a7d42e01-63ec-4b68-b02f-3dfcd069336b",
   "metadata": {},
   "outputs": [
    {
     "name": "stdout",
     "output_type": "stream",
     "text": [
      "Current year  2025\n",
      "Current month 5\n",
      "Current day 4\n"
     ]
    }
   ],
   "source": [
    "today_date = date.today()\n",
    "print(\"Current year \",today_date.year)\n",
    "print(\"Current month\",today_date.month)\n",
    "print(\"Current day\",today_date.day)\n"
   ]
  },
  {
   "cell_type": "code",
   "execution_count": null,
   "id": "e48f0041-360a-474f-b4db-459aefbba09d",
   "metadata": {},
   "outputs": [],
   "source": []
  }
 ],
 "metadata": {
  "kernelspec": {
   "display_name": "Python [conda env:base] *",
   "language": "python",
   "name": "conda-base-py"
  },
  "language_info": {
   "codemirror_mode": {
    "name": "ipython",
    "version": 3
   },
   "file_extension": ".py",
   "mimetype": "text/x-python",
   "name": "python",
   "nbconvert_exporter": "python",
   "pygments_lexer": "ipython3",
   "version": "3.12.7"
  }
 },
 "nbformat": 4,
 "nbformat_minor": 5
}
